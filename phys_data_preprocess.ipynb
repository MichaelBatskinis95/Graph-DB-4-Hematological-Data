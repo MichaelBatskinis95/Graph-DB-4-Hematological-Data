{
  "nbformat": 4,
  "nbformat_minor": 0,
  "metadata": {
    "colab": {
      "name": "phys_data_preprocess.ipynb",
      "provenance": []
    },
    "kernelspec": {
      "name": "python3",
      "display_name": "Python 3"
    }
  },
  "cells": [
    {
      "cell_type": "markdown",
      "source": [
        "##Import Libraries"
      ],
      "metadata": {
        "id": "7tdtiMV40hh1"
      }
    },
    {
      "cell_type": "code",
      "source": [
        "import pandas as pd\n",
        "import numpy as np\n",
        "import re"
      ],
      "metadata": {
        "id": "io5jR2800i05"
      },
      "execution_count": null,
      "outputs": []
    },
    {
      "cell_type": "markdown",
      "metadata": {
        "id": "OTw5e60E-EYj"
      },
      "source": [
        "##Preprocess"
      ]
    },
    {
      "cell_type": "code",
      "metadata": {
        "id": "56OgEFCudCf7"
      },
      "source": [
        "data = pd.read_excel(\"physiological_data.xlsx\")\n",
        "data.replace(r'^\\s*$', np.nan, regex=True,inplace=True)\n",
        "data.rename(columns=lambda x: re.sub('NS','D0',x), inplace=True)\n",
        "\n",
        "nan_cols = data.columns[data.isna().any()]\n",
        "\n",
        "#in some markers there was an extra sampling stage at day 2. These cases will be removed for normality issues\n",
        "tmp_cols = data.filter(regex='_D2$|UA_pct',axis=1).columns\n",
        "data.dropna(axis=1,inplace=True)\n",
        "data.drop(tmp_cols, axis=1, inplace=True)\n",
        "\n",
        "#extract columns with NA from dataset\n",
        "nan_cols = nan_cols.to_list()\n",
        "#store the rest of the headers  \n",
        "headers = data.columns.to_list()"
      ],
      "execution_count": null,
      "outputs": []
    },
    {
      "cell_type": "markdown",
      "metadata": {
        "id": "i2urDcZ36ZJc"
      },
      "source": [
        "##Fixing Names"
      ]
    },
    {
      "cell_type": "code",
      "metadata": {
        "id": "-JFeUrpY6Jrw"
      },
      "source": [
        "def fix_names(listOFnames):\n",
        "  for i in range(len(listOFnames)):\n",
        "    tmp = listOFnames[i]\n",
        "    listOFnames[i] = re.sub(r'_D\\d+.*','',tmp)\n",
        "  return listOFnames"
      ],
      "execution_count": null,
      "outputs": []
    },
    {
      "cell_type": "markdown",
      "metadata": {
        "id": "W-XWuxxM60xj"
      },
      "source": [
        "##Drop columns"
      ]
    },
    {
      "cell_type": "code",
      "metadata": {
        "id": "DLq3GqSO64k8"
      },
      "source": [
        "def drop_col(data,listOFnames):\n",
        "  for name in listOFnames:\n",
        "    rm_cols = [col for col in data.columns if name in col]\n",
        "    data.drop(rm_cols,axis =1, inplace=True)\n",
        "  return data"
      ],
      "execution_count": null,
      "outputs": []
    },
    {
      "cell_type": "markdown",
      "metadata": {
        "id": "ycFvZOuB7XO-"
      },
      "source": [
        "##Final Adjustments"
      ]
    },
    {
      "cell_type": "code",
      "metadata": {
        "id": "rYsNvoXU7abp"
      },
      "source": [
        "nan_cols = fix_names(nan_cols)\n",
        "nan_cols = list(dict.fromkeys(nan_cols))\n",
        "data = drop_col(data, nan_cols)"
      ],
      "execution_count": null,
      "outputs": []
    },
    {
      "cell_type": "markdown",
      "metadata": {
        "id": "Un7b8HGwfgNk"
      },
      "source": [
        "##Export files"
      ]
    },
    {
      "cell_type": "code",
      "metadata": {
        "id": "JynJmONjBTFs"
      },
      "source": [
        "data.to_excel(\"physiological_data_refined.xlsx\")\n",
        "pd.DataFrame(nan_cols).to_excel(\"phys_parms_w_NA.xlsx\")\n",
        "#pd.DataFrame(missing_values).to_excel(\"phys_parms_repeat_fail.xlsx\")"
      ],
      "execution_count": null,
      "outputs": []
    }
  ]
}